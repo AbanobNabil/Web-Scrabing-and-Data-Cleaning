{
 "cells": [
  {
   "cell_type": "markdown",
   "metadata": {},
   "source": [
    "# Wuzzuf Web Scrabing and Data Cleaning"
   ]
  },
  {
   "cell_type": "markdown",
   "metadata": {},
   "source": [
    "### Import Library"
   ]
  },
  {
   "cell_type": "code",
   "execution_count": null,
   "metadata": {},
   "outputs": [],
   "source": [
    "import requests #to import HTML Code from Website\n",
    "from bs4 import BeautifulSoup\n",
    "import pandas as pd\n",
    "import warnings\n",
    "# Ignore all warnings for this cell\n",
    "warnings.filterwarnings('ignore')\n",
    "import re"
   ]
  },
  {
   "cell_type": "markdown",
   "metadata": {},
   "source": [
    "### Scrabing"
   ]
  },
  {
   "cell_type": "code",
   "execution_count": null,
   "metadata": {},
   "outputs": [],
   "source": [
    "# Create Data frame\n",
    "df = pd.DataFrame(columns= [\"job_name\",\"company_name\",\"location\",\"city_name\",\"job_type\",\"expriance_level\",\"year_expriance\",\"skils\"])\n",
    "df"
   ]
  },
  {
   "cell_type": "code",
   "execution_count": null,
   "metadata": {},
   "outputs": [],
   "source": [
    "# Get Data\n",
    "for i in range(644):\n",
    "    request = requests.get(f\"https://wuzzuf.net/search/jobs/?a=hpb&q=&start={i}\")\n",
    "    content = request.content\n",
    "    soup = BeautifulSoup(content, \"html.parser\")\n",
    "    jobs = soup.find_all(\"div\", class_ = \"css-1gatmva e1v1l3u10\")\n",
    "    \n",
    "    for job in jobs:\n",
    "        job_name = job.find_all(\"h2\", class_ = \"css-m604qf\")[0].text\n",
    "        company_name = job.find_all(\"div\", class_ = \"css-d7j1kk\")[0].text.split(\" - \")[0]\n",
    "        location = job.find_all(\"span\", class_ = \"css-5wys0k\")[0].text.split(\", \")[0]\n",
    "        city_name = job.find_all(\"span\", class_ = \"css-5wys0k\")[0].text.split(\", \")[1]\n",
    "        job_type = job.find_all(\"span\", class_ = \"css-1ve4b75 eoyjyou0\")[0].text\n",
    "        expriance_level = job.find_all(\"div\", class_ = \"css-1lh32fc\")[0].next_sibling.text.split(\" · \")[0]\n",
    "        year_expriance = job.find_all(\"div\", class_ = \"css-1lh32fc\")[0].next_sibling.text.split(\" · \")[1]\n",
    "        skils = \" \".join(job.find_all(\"div\", class_ = \"css-1lh32fc\")[0].next_sibling.text.split(\" · \")[2:])\n",
    "        \n",
    "        df.loc[len(df.index)] = [job_name, company_name, location, city_name, job_type, expriance_level, year_expriance, skils]\n",
    "    if i % 50 == 0:\n",
    "        print(\"Done\")"
   ]
  },
  {
   "cell_type": "code",
   "execution_count": null,
   "metadata": {},
   "outputs": [],
   "source": [
    "df"
   ]
  },
  {
   "cell_type": "markdown",
   "metadata": {},
   "source": [
    "### Data Cleaning"
   ]
  },
  {
   "cell_type": "code",
   "execution_count": null,
   "metadata": {},
   "outputs": [],
   "source": [
    "# Some informatuion about Dataset\n",
    "df.info()"
   ]
  },
  {
   "cell_type": "code",
   "execution_count": null,
   "metadata": {},
   "outputs": [],
   "source": [
    "df['job_name'].unique()[:50]"
   ]
  },
  {
   "cell_type": "markdown",
   "metadata": {},
   "source": [
    "Ohh, we have a big task, Data like [Customer Support Representative - Commerce ( Accounting )] forced us to take the first part and delete other parts"
   ]
  },
  {
   "cell_type": "code",
   "execution_count": null,
   "metadata": {},
   "outputs": [],
   "source": [
    "df['job_name'].value_counts()[:20]"
   ]
  },
  {
   "cell_type": "markdown",
   "metadata": {},
   "source": [
    "Let's do that with our simple clean_job_title"
   ]
  },
  {
   "cell_type": "code",
   "execution_count": null,
   "metadata": {},
   "outputs": [],
   "source": [
    "def clean_jop_title(jop_name):\n",
    "    \"\"\"\n",
    "    Clean up the jop_title by removing hyphenated words, text after forward slashes,\n",
    "    and text within parentheses.\n",
    "\n",
    "    Args:\n",
    "        jop_title (str): the jop title string to be cleand.\n",
    "    \n",
    "    Returns:\n",
    "        str: the cleaned job title string.\n",
    "    \"\"\"\n",
    "    clean_title = jop_name.split(\"-\")[0].strip().split(\"/\")[0].strip().split(\"(\")[0].strip().split(\"|\")[0].strip().split(\":\")[0].strip()\n",
    "    return clean_title\n",
    "\n",
    "df['job_name'] = df['job_name'].apply(clean_jop_title)\n",
    "df['job_name'].unique()[:50]"
   ]
  },
  {
   "cell_type": "code",
   "execution_count": null,
   "metadata": {},
   "outputs": [],
   "source": [
    "df['job_name'].value_counts()[:20]"
   ]
  },
  {
   "cell_type": "markdown",
   "metadata": {},
   "source": [
    "The job titles are now significantly more consistent, which is a notable improvement. The noticeable rise in the frequency of each job title indicates this positive development."
   ]
  },
  {
   "cell_type": "markdown",
   "metadata": {},
   "source": [
    "======================================================================================================================="
   ]
  },
  {
   "cell_type": "code",
   "execution_count": null,
   "metadata": {},
   "outputs": [],
   "source": [
    "df['company_name'].unique()"
   ]
  },
  {
   "cell_type": "code",
   "execution_count": null,
   "metadata": {},
   "outputs": [],
   "source": [
    "df['company_name'].value_counts()[:20]"
   ]
  },
  {
   "cell_type": "markdown",
   "metadata": {},
   "source": [
    "I don't believe there is a problem with this column."
   ]
  },
  {
   "cell_type": "markdown",
   "metadata": {},
   "source": [
    "======================================================================================================================="
   ]
  },
  {
   "cell_type": "code",
   "execution_count": null,
   "metadata": {},
   "outputs": [],
   "source": [
    "df['year_expriance'].unique()"
   ]
  },
  {
   "cell_type": "markdown",
   "metadata": {},
   "source": [
    "I believe there are a lot of issues with this column."
   ]
  },
  {
   "cell_type": "markdown",
   "metadata": {},
   "source": [
    "- First, we must remove the \"Yrs of Exp\" portion from each value.\n",
    "- Remove values such as \" \", \"-\" Next, remove any text values.\n",
    "- Perform certain actions to create a brief unique list."
   ]
  },
  {
   "cell_type": "markdown",
   "metadata": {},
   "source": [
    "Git rid of this part \"year_expriance\""
   ]
  },
  {
   "cell_type": "code",
   "execution_count": null,
   "metadata": {},
   "outputs": [],
   "source": [
    "def extract_numeric_and_hyphen(input_string):\n",
    "    \"\"\"\n",
    "    Extract only numeric values and hyphens from the input string.\n",
    "\n",
    "    Args:\n",
    "        input_string (str): The string from which to extract numeric values and hyphens.\n",
    "\n",
    "    Returns:\n",
    "        str: The cleaned string containing only numeric values and hyphens.\n",
    "    \"\"\"\n",
    "    return re.sub(r\"[^0-9-]\", \"\", input_string)\n",
    "\n",
    "df['year_expriance'] = df['year_expriance'].apply(extract_numeric_and_hyphen)\n",
    "df['year_expriance'].unique()"
   ]
  },
  {
   "cell_type": "markdown",
   "metadata": {},
   "source": [
    "Git rid of values as \" \", \"-\""
   ]
  },
  {
   "cell_type": "code",
   "execution_count": null,
   "metadata": {},
   "outputs": [],
   "source": [
    "# Take the hyphen ('-') or empty values ('') out of the \"year_expriance\" column.\n",
    "df = df[(df['year_expriance']!= '')&(df['year_expriance']!='-')]\n",
    "\n",
    "df['year_expriance'].unique()"
   ]
  },
  {
   "cell_type": "markdown",
   "metadata": {},
   "source": [
    "Turn values like '1-1', '8-8, '20-20' to '1', '8', '20'"
   ]
  },
  {
   "cell_type": "code",
   "execution_count": null,
   "metadata": {},
   "outputs": [],
   "source": [
    "def clean_expriance(exp):\n",
    "    \"\"\"\n",
    "    Clean up the 'Experience years' data by checking if the value contains a hyphen (\"-\")\n",
    "    and both parts of the split result are equal. If so, it returns only one part;\n",
    "    otherwise, it leaves the original 'Experience years' value unchanged.\n",
    "\n",
    "   a Args:\n",
    "        exp (str): The 'Experience years' value to be cleaned.\n",
    "\n",
    "    Returns:\n",
    "        str: The cleaned 'Experience years' value.\n",
    "    \"\"\"\n",
    "    # Split the 'year_expriance' value by hyphen\n",
    "    parts = exp.split('-')\n",
    "\n",
    "    # Check if there are exactly two parts and they are equal\n",
    "    if len(parts) == 2 and parts[0] == parts[1]:\n",
    "        return parts[0] # If equal, return only one part\n",
    "    else:\n",
    "        return exp # If not equal or not two parts, return the original value unchanged\n",
    "    \n",
    "df['year_expriance'] = df['year_expriance'].apply(clean_expriance)\n",
    "df['year_expriance'].unique()"
   ]
  },
  {
   "cell_type": "markdown",
   "metadata": {},
   "source": [
    "single values into range format"
   ]
  },
  {
   "cell_type": "code",
   "execution_count": null,
   "metadata": {},
   "outputs": [],
   "source": [
    "def convert_single_to_range(data):\n",
    "    \"\"\"\n",
    "    Converts single values in the list to range format by matching them to existing ranges.\n",
    "\n",
    "    Args:\n",
    "        data (list): A list of values where single values might be converted to ranges.\n",
    "\n",
    "    Returns:\n",
    "        list: The modified list with single values converted to ranges and sorted.\n",
    "    \"\"\"\n",
    "\n",
    "    # Step 1: Convert single values to range format\n",
    "    for i, item in enumerate(data):\n",
    "        if '-' not in item:\n",
    "            value = int(item)\n",
    "            for range_item in data:\n",
    "                if '-' in range_item:\n",
    "                    start, end = map(int, range_item.split('-'))\n",
    "                    if start <= value <= end:\n",
    "                        data[i] = range_item\n",
    "                        break\n",
    "                    \n",
    "    # Step 2: Filter out empty strings and sort the list of ranges\n",
    "    data = [item for item in data if item.strip()]\n",
    "    data.sort(key=lambda x: int(x.split('-')[0]))\n",
    "\n",
    "    return data"
   ]
  },
  {
   "cell_type": "code",
   "execution_count": null,
   "metadata": {},
   "outputs": [],
   "source": [
    "# Convert 'Experience years' column to a list\n",
    "expriance_list = df['year_expriance'].tolist()\n",
    "\n",
    "# Process the list using the function\n",
    "processed_expriance = convert_single_to_range(expriance_list)\n",
    "\n",
    "# Assign the processed list back to the DataFrame column\n",
    "df['year_expriance'] = processed_expriance"
   ]
  },
  {
   "cell_type": "code",
   "execution_count": null,
   "metadata": {},
   "outputs": [],
   "source": [
    "df['year_expriance'].unique()"
   ]
  },
  {
   "cell_type": "code",
   "execution_count": null,
   "metadata": {},
   "outputs": [],
   "source": [
    "df.head()"
   ]
  },
  {
   "cell_type": "markdown",
   "metadata": {},
   "source": [
    "======================================================================================================================="
   ]
  },
  {
   "cell_type": "code",
   "execution_count": null,
   "metadata": {},
   "outputs": [],
   "source": [
    "df['job_type'].unique()"
   ]
  },
  {
   "cell_type": "markdown",
   "metadata": {},
   "source": [
    " replace 'Freelance / Project' to 'Freelance'"
   ]
  },
  {
   "cell_type": "code",
   "execution_count": null,
   "metadata": {},
   "outputs": [],
   "source": [
    "def clean_job_type(job_type):\n",
    "    clean_title = job_type.split(\"/\")[0].strip()\n",
    "    return clean_title\n",
    "\n",
    "df['job_type'] = df['job_type'].apply(clean_job_type)\n",
    "df['job_type'].unique()"
   ]
  },
  {
   "cell_type": "markdown",
   "metadata": {},
   "source": [
    "======================================================================================================================="
   ]
  },
  {
   "cell_type": "code",
   "execution_count": null,
   "metadata": {},
   "outputs": [],
   "source": [
    "df['location'].unique()"
   ]
  },
  {
   "cell_type": "code",
   "execution_count": null,
   "metadata": {},
   "outputs": [],
   "source": [
    "# 1. Convert to Lowercase\n",
    "df['location'] = df['location'].str.lower()\n",
    "\n",
    "# 2. Remove Leading and Trailing Spaces\n",
    "df['location'] = df['location'].str.strip()"
   ]
  },
  {
   "cell_type": "code",
   "execution_count": null,
   "metadata": {},
   "outputs": [],
   "source": [
    "df['location'].unique()"
   ]
  },
  {
   "cell_type": "markdown",
   "metadata": {},
   "source": [
    "======================================================================================================================="
   ]
  },
  {
   "cell_type": "code",
   "execution_count": null,
   "metadata": {},
   "outputs": [],
   "source": [
    "df['skils'].unique()"
   ]
  },
  {
   "cell_type": "code",
   "execution_count": null,
   "metadata": {},
   "outputs": [],
   "source": [
    "def clean_skils(skils):\n",
    "    \"\"\"\n",
    "    Clean up the skills by removing text after forward slashes.\n",
    "\n",
    "    Args:\n",
    "        skills (str): The job title string to be cleaned.\n",
    "\n",
    "    Returns:\n",
    "        str: The cleaned skills string.\n",
    "    \"\"\"\n",
    "    clean_skils_title = skils.split('/')\n",
    "    return clean_skils_title\n",
    "\n",
    "df['skils'] = df['skils'].apply(clean_skils)\n"
   ]
  },
  {
   "cell_type": "code",
   "execution_count": null,
   "metadata": {},
   "outputs": [],
   "source": [
    "df.head()"
   ]
  },
  {
   "cell_type": "markdown",
   "metadata": {},
   "source": [
    "### Fininsh"
   ]
  }
 ],
 "metadata": {
  "kernelspec": {
   "display_name": "Python 3",
   "language": "python",
   "name": "python3"
  },
  "language_info": {
   "codemirror_mode": {
    "name": "ipython",
    "version": 3
   },
   "file_extension": ".py",
   "mimetype": "text/x-python",
   "name": "python",
   "nbconvert_exporter": "python",
   "pygments_lexer": "ipython3",
   "version": "3.11.5"
  }
 },
 "nbformat": 4,
 "nbformat_minor": 2
}
